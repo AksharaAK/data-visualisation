{
 "cells": [
  {
   "cell_type": "markdown",
   "id": "8fc58ffd-fade-4b51-9bd4-95ae29d3541a",
   "metadata": {},
   "source": [
    "## Import necessary libraries"
   ]
  },
  {
   "cell_type": "code",
   "execution_count": 1,
   "id": "ca4c8618-c282-40fe-9cba-159370144d0a",
   "metadata": {},
   "outputs": [],
   "source": [
    "import pandas as pd\n",
    "import requests\n",
    "import numpy as np"
   ]
  },
  {
   "cell_type": "markdown",
   "id": "881cc300-d718-45d1-b217-bcd0f3cdabab",
   "metadata": {},
   "source": [
    "## Load data into Pandas Dataframe"
   ]
  },
  {
   "cell_type": "code",
   "execution_count": 2,
   "id": "9619c7ea-ede7-4bab-99db-64924674a1ad",
   "metadata": {},
   "outputs": [
    {
     "data": {
      "text/html": [
       "<div>\n",
       "<style scoped>\n",
       "    .dataframe tbody tr th:only-of-type {\n",
       "        vertical-align: middle;\n",
       "    }\n",
       "\n",
       "    .dataframe tbody tr th {\n",
       "        vertical-align: top;\n",
       "    }\n",
       "\n",
       "    .dataframe thead th {\n",
       "        text-align: right;\n",
       "    }\n",
       "</style>\n",
       "<table border=\"1\" class=\"dataframe\">\n",
       "  <thead>\n",
       "    <tr style=\"text-align: right;\">\n",
       "      <th></th>\n",
       "      <th>id</th>\n",
       "      <th>created</th>\n",
       "      <th>eventType</th>\n",
       "      <th>eventValue</th>\n",
       "      <th>jobId</th>\n",
       "      <th>country</th>\n",
       "      <th>slug</th>\n",
       "      <th>geo</th>\n",
       "    </tr>\n",
       "  </thead>\n",
       "  <tbody>\n",
       "    <tr>\n",
       "      <th>0</th>\n",
       "      <td>291A0388D8525FC7422BEB97C7D9481B</td>\n",
       "      <td>2022-08-22 15:30:46</td>\n",
       "      <td>Apply</td>\n",
       "      <td>10780</td>\n",
       "      <td>6301f4e68d484170669791ba</td>\n",
       "      <td>US</td>\n",
       "      <td>doordash</td>\n",
       "      <td>POINT(-122.04619996 47.62540000)</td>\n",
       "    </tr>\n",
       "    <tr>\n",
       "      <th>1</th>\n",
       "      <td>C5733B31E12896633B1A8FAEBE96DD47</td>\n",
       "      <td>2022-08-22 15:36:35</td>\n",
       "      <td>Apply</td>\n",
       "      <td>5179</td>\n",
       "      <td>63039b4b3bbdc2174316c1f6</td>\n",
       "      <td>US</td>\n",
       "      <td>doordash</td>\n",
       "      <td>POINT(-80.06789997 40.90490003)</td>\n",
       "    </tr>\n",
       "    <tr>\n",
       "      <th>2</th>\n",
       "      <td>53FDFAF42206E5607BC5424581F5EFDB</td>\n",
       "      <td>2022-08-22 15:38:17</td>\n",
       "      <td>Apply</td>\n",
       "      <td>10780</td>\n",
       "      <td>6301ce1e01883c93725f98d1</td>\n",
       "      <td>US</td>\n",
       "      <td>doordash</td>\n",
       "      <td>POINT(-122.22810002 47.56029999)</td>\n",
       "    </tr>\n",
       "    <tr>\n",
       "      <th>3</th>\n",
       "      <td>8C3AC70079C6EF595DCAB2EDFB904376</td>\n",
       "      <td>2022-08-22 15:56:08</td>\n",
       "      <td>Apply</td>\n",
       "      <td>4200</td>\n",
       "      <td>63039bf43bbdc2174316c654</td>\n",
       "      <td>US</td>\n",
       "      <td>doordash</td>\n",
       "      <td>POINT(-108.59680003 39.10710003)</td>\n",
       "    </tr>\n",
       "    <tr>\n",
       "      <th>4</th>\n",
       "      <td>84AF4C71DFCC270577140469C8901D04</td>\n",
       "      <td>2022-08-22 16:49:36</td>\n",
       "      <td>Apply</td>\n",
       "      <td>7909</td>\n",
       "      <td>63039c803bbdc2174316ca51</td>\n",
       "      <td>US</td>\n",
       "      <td>doordash</td>\n",
       "      <td>POINT(-86.79160002 36.15040004)</td>\n",
       "    </tr>\n",
       "  </tbody>\n",
       "</table>\n",
       "</div>"
      ],
      "text/plain": [
       "                                 id              created eventType  \\\n",
       "0  291A0388D8525FC7422BEB97C7D9481B  2022-08-22 15:30:46     Apply   \n",
       "1  C5733B31E12896633B1A8FAEBE96DD47  2022-08-22 15:36:35     Apply   \n",
       "2  53FDFAF42206E5607BC5424581F5EFDB  2022-08-22 15:38:17     Apply   \n",
       "3  8C3AC70079C6EF595DCAB2EDFB904376  2022-08-22 15:56:08     Apply   \n",
       "4  84AF4C71DFCC270577140469C8901D04  2022-08-22 16:49:36     Apply   \n",
       "\n",
       "   eventValue                     jobId country      slug  \\\n",
       "0       10780  6301f4e68d484170669791ba      US  doordash   \n",
       "1        5179  63039b4b3bbdc2174316c1f6      US  doordash   \n",
       "2       10780  6301ce1e01883c93725f98d1      US  doordash   \n",
       "3        4200  63039bf43bbdc2174316c654      US  doordash   \n",
       "4        7909  63039c803bbdc2174316ca51      US  doordash   \n",
       "\n",
       "                                geo  \n",
       "0  POINT(-122.04619996 47.62540000)  \n",
       "1   POINT(-80.06789997 40.90490003)  \n",
       "2  POINT(-122.22810002 47.56029999)  \n",
       "3  POINT(-108.59680003 39.10710003)  \n",
       "4   POINT(-86.79160002 36.15040004)  "
      ]
     },
     "execution_count": 2,
     "metadata": {},
     "output_type": "execute_result"
    }
   ],
   "source": [
    "event_df = pd.read_csv('job_seeker_geo.csv')\n",
    "event_df.head()"
   ]
  },
  {
   "cell_type": "markdown",
   "id": "a3c53986-84ba-407e-89ac-0cb1e1b01998",
   "metadata": {},
   "source": [
    "### Understand the dataset"
   ]
  },
  {
   "cell_type": "code",
   "execution_count": 3,
   "id": "0be6c493-606b-49c8-8fdd-104009b8e5b9",
   "metadata": {},
   "outputs": [
    {
     "data": {
      "text/plain": [
       "Index(['id', 'created', 'eventType', 'eventValue', 'jobId', 'country', 'slug',\n",
       "       'geo'],\n",
       "      dtype='object')"
      ]
     },
     "execution_count": 3,
     "metadata": {},
     "output_type": "execute_result"
    }
   ],
   "source": [
    "event_df.keys()"
   ]
  },
  {
   "cell_type": "code",
   "execution_count": 4,
   "id": "9edcceb6-46fd-4acd-b475-8e79b60c73a2",
   "metadata": {},
   "outputs": [
    {
     "data": {
      "text/plain": [
       "id            3575\n",
       "created       3575\n",
       "eventType     3575\n",
       "eventValue    3575\n",
       "jobId         3575\n",
       "country       3575\n",
       "slug          3575\n",
       "geo           3575\n",
       "dtype: int64"
      ]
     },
     "execution_count": 4,
     "metadata": {},
     "output_type": "execute_result"
    }
   ],
   "source": [
    "event_df.count()"
   ]
  },
  {
   "cell_type": "code",
   "execution_count": 5,
   "id": "248cd5b8-d996-4780-8cd5-bc47934a8545",
   "metadata": {},
   "outputs": [
    {
     "name": "stdout",
     "output_type": "stream",
     "text": [
      "<class 'pandas.core.frame.DataFrame'>\n",
      "RangeIndex: 3575 entries, 0 to 3574\n",
      "Data columns (total 8 columns):\n",
      " #   Column      Non-Null Count  Dtype \n",
      "---  ------      --------------  ----- \n",
      " 0   id          3575 non-null   object\n",
      " 1   created     3575 non-null   object\n",
      " 2   eventType   3575 non-null   object\n",
      " 3   eventValue  3575 non-null   int64 \n",
      " 4   jobId       3575 non-null   object\n",
      " 5   country     3575 non-null   object\n",
      " 6   slug        3575 non-null   object\n",
      " 7   geo         3575 non-null   object\n",
      "dtypes: int64(1), object(7)\n",
      "memory usage: 223.6+ KB\n"
     ]
    }
   ],
   "source": [
    "event_df.info()"
   ]
  },
  {
   "cell_type": "markdown",
   "id": "6db88781-8d64-4fda-b005-19539b0e7f78",
   "metadata": {},
   "source": [
    "## Understand the API endpoint"
   ]
  },
  {
   "cell_type": "code",
   "execution_count": 18,
   "id": "c46ef9c8-4511-4409-8833-70b68215cf6b",
   "metadata": {},
   "outputs": [],
   "source": [
    "DA_BASE_URL = 'https://us-state-api.herokuapp.com/?lat=3.7&lon=-119.67'"
   ]
  },
  {
   "cell_type": "code",
   "execution_count": 19,
   "id": "1c5faa6f-153d-4819-bc57-a5fa4dc7a3c0",
   "metadata": {},
   "outputs": [
    {
     "name": "stdout",
     "output_type": "stream",
     "text": [
      "{'state': None}\n",
      "200\n"
     ]
    }
   ],
   "source": [
    "responseDA = requests.get(DA_BASE_URL)\n",
    "print(responseDA.json())\n",
    "print(responseDA.status_code)"
   ]
  },
  {
   "cell_type": "code",
   "execution_count": null,
   "id": "09be71d1-96a1-48ce-9f36-af564520fdac",
   "metadata": {},
   "outputs": [],
   "source": []
  },
  {
   "cell_type": "markdown",
   "id": "0044cf6e-956f-4505-88e1-d307f8bf2e78",
   "metadata": {},
   "source": [
    "#### We need to make a call to the endpoint to get the state for all latitude-longtitude pairs in the `events_data.csv` file that is loaded into `event_df` dataframe"
   ]
  },
  {
   "cell_type": "code",
   "execution_count": 11,
   "id": "5bf5242c-22cd-4c3d-aabb-8252be521bd2",
   "metadata": {},
   "outputs": [
    {
     "name": "stdout",
     "output_type": "stream",
     "text": [
      "Totally 3575 rows, but only 1316 unique latitude-longitude pairs\n"
     ]
    }
   ],
   "source": [
    "print(f\"Totally {len(event_df)} rows, but only {len(event_df.geo.unique())} unique latitude-longitude pairs\")"
   ]
  },
  {
   "cell_type": "markdown",
   "id": "0fd5398a-8bbb-44c9-add7-f18d6e85d2ba",
   "metadata": {},
   "source": [
    "####  Instead of making an API call for every row (3575 calls), let's make a call only for unique values in that column and use the response for every event row corresponding to that lat-long pair"
   ]
  },
  {
   "cell_type": "code",
   "execution_count": 13,
   "id": "738bc4d7-efee-46bd-99e6-7cfd259f4baa",
   "metadata": {},
   "outputs": [
    {
     "name": "stdout",
     "output_type": "stream",
     "text": [
      "1316 ['POINT(-122.04619996 47.62540000)' 'POINT(-80.06789997 40.90490003)'\n",
      " 'POINT(-122.22810002 47.56029999)' ... 'POINT(-73.97809998 40.74429999)'\n",
      " 'POINT(-81.66419996 41.38090002)' 'POINT(-97.31840000 32.72559997)']\n"
     ]
    }
   ],
   "source": [
    "#  list of unique states - lat long pairs\n",
    "\n",
    "states = event_df.geo.unique()\n",
    "print(states.size, states, )"
   ]
  },
  {
   "cell_type": "markdown",
   "id": "ecb655b2-ea1f-4d8a-b5f2-b6ec621a4716",
   "metadata": {},
   "source": [
    "#### Let's define a helper function to obtain the lat-long pair from the geo column containing lat-long in shapefile format"
   ]
  },
  {
   "cell_type": "code",
   "execution_count": 16,
   "id": "fa647dda-2f0f-4d6c-85d6-253d213aecc0",
   "metadata": {},
   "outputs": [],
   "source": [
    "def getLatLong(geoVal):\n",
    "    \n",
    "    withoutPointPrefix = geoVal.split('(')\n",
    "    latLong = (withoutPointPrefix[1]).split(' ')\n",
    "    lng = latLong[1][:-1] \n",
    "    lat = latLong[0]\n",
    "    return lng, lat"
   ]
  },
  {
   "cell_type": "markdown",
   "id": "1b54aee6-e772-4ba5-9d11-59e91e816a68",
   "metadata": {},
   "source": [
    "#### Getting the API response: \n",
    "Now, `states` list contains the unique lat-long pairs in `event_df`. In the following cell, we do three things for each element in this list:\n",
    "- Create the request url by appending the lat-long pair (x',y') to the API base URL\n",
    "- Invoke the API endpoint using `requests` library\n",
    "- If we get a valid response, store the state and postal code from the response as a new column value for all rows with the same lat-long pair (x',y')"
   ]
  },
  {
   "cell_type": "code",
   "execution_count": 17,
   "id": "1a6be412-ad95-429b-ad7e-35a8177f473a",
   "metadata": {},
   "outputs": [],
   "source": [
    "\n",
    "# i=0\n",
    "for state in states:\n",
    "    cordinates = getLatLong(state)\n",
    "    payload = f\"lat={cordinates[0]}&lon={cordinates[1]}\"\n",
    "    response = requests.get(DA_BASE_URL+payload).json()\n",
    "    \n",
    "    # print(response)\n",
    "    if response['state'] != None:\n",
    "        event_df.loc[(event_df['geo']==state), 'state'] = response['state']['slug'] \n",
    "        event_df.loc[(event_df['geo']==state), 'postal'] = response['state']['postal'] \n",
    "    else:\n",
    "        event_df.loc[(event_df['geo']==state), 'state'] = np.nan\n",
    "        event_df.loc[(event_df['geo']==state), 'postal'] = np.nan\n",
    "#   for visibility on progress through the loop   \n",
    "    # print(i) \n",
    "    # i+=1\n"
   ]
  },
  {
   "cell_type": "code",
   "execution_count": null,
   "id": "e36ed415-b2e5-4003-8470-8f48f8db1ef3",
   "metadata": {},
   "outputs": [],
   "source": []
  },
  {
   "cell_type": "code",
   "execution_count": 19,
   "id": "df5603bc-2870-4108-b597-bc5d27790dc5",
   "metadata": {},
   "outputs": [
    {
     "data": {
      "text/html": [
       "<div>\n",
       "<style scoped>\n",
       "    .dataframe tbody tr th:only-of-type {\n",
       "        vertical-align: middle;\n",
       "    }\n",
       "\n",
       "    .dataframe tbody tr th {\n",
       "        vertical-align: top;\n",
       "    }\n",
       "\n",
       "    .dataframe thead th {\n",
       "        text-align: right;\n",
       "    }\n",
       "</style>\n",
       "<table border=\"1\" class=\"dataframe\">\n",
       "  <thead>\n",
       "    <tr style=\"text-align: right;\">\n",
       "      <th></th>\n",
       "      <th>id</th>\n",
       "      <th>created</th>\n",
       "      <th>eventType</th>\n",
       "      <th>eventValue</th>\n",
       "      <th>jobId</th>\n",
       "      <th>country</th>\n",
       "      <th>slug</th>\n",
       "      <th>geo</th>\n",
       "      <th>state</th>\n",
       "      <th>postal</th>\n",
       "    </tr>\n",
       "  </thead>\n",
       "  <tbody>\n",
       "    <tr>\n",
       "      <th>0</th>\n",
       "      <td>291A0388D8525FC7422BEB97C7D9481B</td>\n",
       "      <td>2022-08-22 15:30:46</td>\n",
       "      <td>Apply</td>\n",
       "      <td>10780</td>\n",
       "      <td>6301f4e68d484170669791ba</td>\n",
       "      <td>US</td>\n",
       "      <td>doordash</td>\n",
       "      <td>POINT(-122.04619996 47.62540000)</td>\n",
       "      <td>washington</td>\n",
       "      <td>WA</td>\n",
       "    </tr>\n",
       "    <tr>\n",
       "      <th>1</th>\n",
       "      <td>C5733B31E12896633B1A8FAEBE96DD47</td>\n",
       "      <td>2022-08-22 15:36:35</td>\n",
       "      <td>Apply</td>\n",
       "      <td>5179</td>\n",
       "      <td>63039b4b3bbdc2174316c1f6</td>\n",
       "      <td>US</td>\n",
       "      <td>doordash</td>\n",
       "      <td>POINT(-80.06789997 40.90490003)</td>\n",
       "      <td>pennsylvania</td>\n",
       "      <td>PA</td>\n",
       "    </tr>\n",
       "    <tr>\n",
       "      <th>2</th>\n",
       "      <td>53FDFAF42206E5607BC5424581F5EFDB</td>\n",
       "      <td>2022-08-22 15:38:17</td>\n",
       "      <td>Apply</td>\n",
       "      <td>10780</td>\n",
       "      <td>6301ce1e01883c93725f98d1</td>\n",
       "      <td>US</td>\n",
       "      <td>doordash</td>\n",
       "      <td>POINT(-122.22810002 47.56029999)</td>\n",
       "      <td>washington</td>\n",
       "      <td>WA</td>\n",
       "    </tr>\n",
       "    <tr>\n",
       "      <th>3</th>\n",
       "      <td>8C3AC70079C6EF595DCAB2EDFB904376</td>\n",
       "      <td>2022-08-22 15:56:08</td>\n",
       "      <td>Apply</td>\n",
       "      <td>4200</td>\n",
       "      <td>63039bf43bbdc2174316c654</td>\n",
       "      <td>US</td>\n",
       "      <td>doordash</td>\n",
       "      <td>POINT(-108.59680003 39.10710003)</td>\n",
       "      <td>colorado</td>\n",
       "      <td>CO</td>\n",
       "    </tr>\n",
       "    <tr>\n",
       "      <th>4</th>\n",
       "      <td>84AF4C71DFCC270577140469C8901D04</td>\n",
       "      <td>2022-08-22 16:49:36</td>\n",
       "      <td>Apply</td>\n",
       "      <td>7909</td>\n",
       "      <td>63039c803bbdc2174316ca51</td>\n",
       "      <td>US</td>\n",
       "      <td>doordash</td>\n",
       "      <td>POINT(-86.79160002 36.15040004)</td>\n",
       "      <td>tennessee</td>\n",
       "      <td>TN</td>\n",
       "    </tr>\n",
       "  </tbody>\n",
       "</table>\n",
       "</div>"
      ],
      "text/plain": [
       "                                 id              created eventType  \\\n",
       "0  291A0388D8525FC7422BEB97C7D9481B  2022-08-22 15:30:46     Apply   \n",
       "1  C5733B31E12896633B1A8FAEBE96DD47  2022-08-22 15:36:35     Apply   \n",
       "2  53FDFAF42206E5607BC5424581F5EFDB  2022-08-22 15:38:17     Apply   \n",
       "3  8C3AC70079C6EF595DCAB2EDFB904376  2022-08-22 15:56:08     Apply   \n",
       "4  84AF4C71DFCC270577140469C8901D04  2022-08-22 16:49:36     Apply   \n",
       "\n",
       "   eventValue                     jobId country      slug  \\\n",
       "0       10780  6301f4e68d484170669791ba      US  doordash   \n",
       "1        5179  63039b4b3bbdc2174316c1f6      US  doordash   \n",
       "2       10780  6301ce1e01883c93725f98d1      US  doordash   \n",
       "3        4200  63039bf43bbdc2174316c654      US  doordash   \n",
       "4        7909  63039c803bbdc2174316ca51      US  doordash   \n",
       "\n",
       "                                geo         state postal  \n",
       "0  POINT(-122.04619996 47.62540000)    washington     WA  \n",
       "1   POINT(-80.06789997 40.90490003)  pennsylvania     PA  \n",
       "2  POINT(-122.22810002 47.56029999)    washington     WA  \n",
       "3  POINT(-108.59680003 39.10710003)      colorado     CO  \n",
       "4   POINT(-86.79160002 36.15040004)     tennessee     TN  "
      ]
     },
     "execution_count": 19,
     "metadata": {},
     "output_type": "execute_result"
    }
   ],
   "source": [
    "event_df.head()"
   ]
  },
  {
   "cell_type": "code",
   "execution_count": null,
   "id": "9f95e814-8385-40a1-be12-9a9dc9f585fe",
   "metadata": {},
   "outputs": [],
   "source": []
  },
  {
   "cell_type": "markdown",
   "id": "1dac4907-ec30-4c01-b57e-59204766a678",
   "metadata": {},
   "source": [
    "#### Only 2 rows have null state and postal codes which is ~ 0.055% of the dataset, probably the states vermont and north-dakota as these US states are missing frmo observing manually. "
   ]
  },
  {
   "cell_type": "code",
   "execution_count": 20,
   "id": "8a6a98da-4426-404a-b831-1deec00a901d",
   "metadata": {},
   "outputs": [
    {
     "name": "stdout",
     "output_type": "stream",
     "text": [
      "<class 'pandas.core.frame.DataFrame'>\n",
      "RangeIndex: 3575 entries, 0 to 3574\n",
      "Data columns (total 10 columns):\n",
      " #   Column      Non-Null Count  Dtype \n",
      "---  ------      --------------  ----- \n",
      " 0   id          3575 non-null   object\n",
      " 1   created     3575 non-null   object\n",
      " 2   eventType   3575 non-null   object\n",
      " 3   eventValue  3575 non-null   int64 \n",
      " 4   jobId       3575 non-null   object\n",
      " 5   country     3575 non-null   object\n",
      " 6   slug        3575 non-null   object\n",
      " 7   geo         3575 non-null   object\n",
      " 8   state       3573 non-null   object\n",
      " 9   postal      3573 non-null   object\n",
      "dtypes: int64(1), object(9)\n",
      "memory usage: 279.4+ KB\n"
     ]
    }
   ],
   "source": [
    "event_df.info()"
   ]
  },
  {
   "cell_type": "markdown",
   "id": "125a11e9-db14-4baf-9853-32d99ddbb53d",
   "metadata": {},
   "source": [
    "### Storing the events data along with state information in a new csv file"
   ]
  },
  {
   "cell_type": "code",
   "execution_count": 22,
   "id": "7713b4e5-1dcb-4d6c-bb5c-6bba98996055",
   "metadata": {},
   "outputs": [],
   "source": [
    "event_df.to_csv('job_seeker_states.csv', index=False)"
   ]
  },
  {
   "cell_type": "code",
   "execution_count": null,
   "id": "afad9876-05ab-49e6-8882-8fd3dcdc54c2",
   "metadata": {},
   "outputs": [],
   "source": []
  },
  {
   "cell_type": "code",
   "execution_count": null,
   "id": "01436888-f490-4af5-92d4-76b69c34cc29",
   "metadata": {},
   "outputs": [],
   "source": []
  }
 ],
 "metadata": {
  "kernelspec": {
   "display_name": "Python 3 (ipykernel)",
   "language": "python",
   "name": "python3"
  },
  "language_info": {
   "codemirror_mode": {
    "name": "ipython",
    "version": 3
   },
   "file_extension": ".py",
   "mimetype": "text/x-python",
   "name": "python",
   "nbconvert_exporter": "python",
   "pygments_lexer": "ipython3",
   "version": "3.9.12"
  },
  "toc-autonumbering": true,
  "toc-showcode": false,
  "toc-showmarkdowntxt": true,
  "toc-showtags": false
 },
 "nbformat": 4,
 "nbformat_minor": 5
}
